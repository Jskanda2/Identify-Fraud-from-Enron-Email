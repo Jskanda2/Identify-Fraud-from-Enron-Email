{
 "cells": [
  {
   "cell_type": "markdown",
   "metadata": {},
   "source": [
    "# Identify Fraud from Enron Email"
   ]
  },
  {
   "cell_type": "markdown",
   "metadata": {},
   "source": [
    "## Project Overview"
   ]
  },
  {
   "cell_type": "markdown",
   "metadata": {},
   "source": [
    "In 2000, Enron was one of the largest companies in the United States. By 2002, it had collapsed into bankruptcy due to widespread corporate fraud. In the resulting Federal investigation, a significant amount of typically confidential information entered into the public record, including tens of thousands of emails and detailed financial data for top executives.\n",
    "\n",
    "In this project, I will play detective, and put my new skills to use by building a person of interest identifier based on financial and email data made public as a result of the Enron scandal. This project has combined this data with a hand-generated list of persons of interest in the fraud case."
   ]
  },
  {
   "cell_type": "markdown",
   "metadata": {},
   "source": [
    "The goal of this project is to identify a person of interest. Which means an individual who was indicted, reached a settlement or plea deal with the government, or testified in exchange for prosecution immunity. POI identifier based on financial and email data made public as a result of the Enron scandal. Machine learning is an excellent tool for this kind of classification task as it can use patterns discovered from labeled data to infer the classes of new observations.\n",
    "\n",
    "The dataset had significant amount of typically confidential information entered into the public record, including tens of thousands of emails and detailed financial data for top executives. It could contain useful information for identifying POIs.\n",
    "Insider Salary, Bonus, Long Term Incentive, Deferred Income, Total Payments, Exercised Stock Options, Total Stock Value and number of to/from emails messages are very usefull dataset information for the investigation. \n"
   ]
  },
  {
   "cell_type": "markdown",
   "metadata": {},
   "source": [
    "The features in the data fall into three major types, namely financial features, email features and POI labels.\n",
    "\n",
    "A) financial features: ['salary', 'deferral_payments', 'total_payments', 'loan_advances', 'bonus', 'restricted_stock_deferred', 'deferred_income', 'total_stock_value', 'expenses', 'exercised_stock_options', 'other', 'long_term_incentive', 'restricted_stock', 'director_fees'] (all units are in US dollars)\n",
    "\n",
    "B) email features: ['to_messages', 'email_address', 'from_poi_to_this_person', 'from_messages', 'from_this_person_to_poi', 'shared_receipt_with_poi'] (units are generally number of emails messages; notable exception is ‘email_address’, which is a text string)\n",
    "\n",
    "C) POI label: [‘poi’] (boolean, represented as integer)"
   ]
  },
  {
   "cell_type": "markdown",
   "metadata": {},
   "source": [
    "## 1. Data Exploration"
   ]
  },
  {
   "cell_type": "code",
   "execution_count": 1,
   "metadata": {},
   "outputs": [],
   "source": [
    "### Required Modules and packages\n",
    "#!/usr/bin/python\n",
    "\n",
    "import sys\n",
    "import pickle\n",
    "import pandas as pd\n",
    "import matplotlib.pyplot\n",
    "import pylab as pl\n",
    "import numpy as np\n",
    "\n",
    "from time import time\n",
    "from sklearn.naive_bayes import GaussianNB\n",
    "from sklearn.svm import SVC\n",
    "from sklearn import tree\n",
    "from sklearn.linear_model import LogisticRegression\n",
    "from sklearn.cross_validation import train_test_split\n",
    "from sklearn.grid_search import GridSearchCV\n",
    "from tester import dump_classifier_and_data\n",
    "from sklearn.metrics import accuracy_score, precision_score, recall_score\n",
    "\n",
    "sys.path.append(\"../tools/\")\n"
   ]
  },
  {
   "cell_type": "code",
   "execution_count": 2,
   "metadata": {
    "collapsed": true
   },
   "outputs": [],
   "source": [
    "### Task 1: Select what features you'll use.\n",
    "### features_list is a list of strings, each of which is a feature name.\n",
    "### The first feature must be \"poi\".\n",
    "### Selected Features\n",
    "\n",
    "financial_features = ['salary', 'deferral_payments', 'total_payments', \\\n",
    "'loan_advances', 'bonus', 'restricted_stock_deferred', 'deferred_income', \\\n",
    "'total_stock_value', 'expenses', 'exercised_stock_options', 'other', \\\n",
    "'long_term_incentive', 'restricted_stock', 'director_fees']\n",
    "\n",
    "email_features = ['to_messages', 'from_poi_to_this_person', 'from_messages', \\\n",
    "'from_this_person_to_poi', 'shared_receipt_with_poi']\n",
    "\n",
    "poi_label = ['poi']\n",
    "\n",
    "features_list = poi_label + financial_features + email_features \n"
   ]
  },
  {
   "cell_type": "markdown",
   "metadata": {},
   "source": [
    "1.1 Load the dictionary containing the dataset and View the data"
   ]
  },
  {
   "cell_type": "code",
   "execution_count": 3,
   "metadata": {},
   "outputs": [
    {
     "data": {
      "text/html": [
       "<div>\n",
       "<table border=\"1\" class=\"dataframe\">\n",
       "  <thead>\n",
       "    <tr style=\"text-align: right;\">\n",
       "      <th></th>\n",
       "      <th>salary</th>\n",
       "      <th>to_messages</th>\n",
       "      <th>deferral_payments</th>\n",
       "      <th>total_payments</th>\n",
       "      <th>exercised_stock_options</th>\n",
       "      <th>bonus</th>\n",
       "      <th>restricted_stock</th>\n",
       "      <th>shared_receipt_with_poi</th>\n",
       "      <th>restricted_stock_deferred</th>\n",
       "      <th>total_stock_value</th>\n",
       "      <th>...</th>\n",
       "      <th>loan_advances</th>\n",
       "      <th>from_messages</th>\n",
       "      <th>other</th>\n",
       "      <th>from_this_person_to_poi</th>\n",
       "      <th>poi</th>\n",
       "      <th>director_fees</th>\n",
       "      <th>deferred_income</th>\n",
       "      <th>long_term_incentive</th>\n",
       "      <th>email_address</th>\n",
       "      <th>from_poi_to_this_person</th>\n",
       "    </tr>\n",
       "  </thead>\n",
       "  <tbody>\n",
       "    <tr>\n",
       "      <th>ALLEN PHILLIP K</th>\n",
       "      <td>201955</td>\n",
       "      <td>2902</td>\n",
       "      <td>2869717</td>\n",
       "      <td>4484442</td>\n",
       "      <td>1729541</td>\n",
       "      <td>4175000</td>\n",
       "      <td>126027</td>\n",
       "      <td>1407</td>\n",
       "      <td>-126027</td>\n",
       "      <td>1729541</td>\n",
       "      <td>...</td>\n",
       "      <td>NaN</td>\n",
       "      <td>2195</td>\n",
       "      <td>152</td>\n",
       "      <td>65</td>\n",
       "      <td>False</td>\n",
       "      <td>NaN</td>\n",
       "      <td>-3081055</td>\n",
       "      <td>304805</td>\n",
       "      <td>phillip.allen@enron.com</td>\n",
       "      <td>47</td>\n",
       "    </tr>\n",
       "    <tr>\n",
       "      <th>BADUM JAMES P</th>\n",
       "      <td>NaN</td>\n",
       "      <td>NaN</td>\n",
       "      <td>178980</td>\n",
       "      <td>182466</td>\n",
       "      <td>257817</td>\n",
       "      <td>NaN</td>\n",
       "      <td>NaN</td>\n",
       "      <td>NaN</td>\n",
       "      <td>NaN</td>\n",
       "      <td>257817</td>\n",
       "      <td>...</td>\n",
       "      <td>NaN</td>\n",
       "      <td>NaN</td>\n",
       "      <td>NaN</td>\n",
       "      <td>NaN</td>\n",
       "      <td>False</td>\n",
       "      <td>NaN</td>\n",
       "      <td>NaN</td>\n",
       "      <td>NaN</td>\n",
       "      <td>NaN</td>\n",
       "      <td>NaN</td>\n",
       "    </tr>\n",
       "    <tr>\n",
       "      <th>BANNANTINE JAMES M</th>\n",
       "      <td>477</td>\n",
       "      <td>566</td>\n",
       "      <td>NaN</td>\n",
       "      <td>916197</td>\n",
       "      <td>4046157</td>\n",
       "      <td>NaN</td>\n",
       "      <td>1757552</td>\n",
       "      <td>465</td>\n",
       "      <td>-560222</td>\n",
       "      <td>5243487</td>\n",
       "      <td>...</td>\n",
       "      <td>NaN</td>\n",
       "      <td>29</td>\n",
       "      <td>864523</td>\n",
       "      <td>0</td>\n",
       "      <td>False</td>\n",
       "      <td>NaN</td>\n",
       "      <td>-5104</td>\n",
       "      <td>NaN</td>\n",
       "      <td>james.bannantine@enron.com</td>\n",
       "      <td>39</td>\n",
       "    </tr>\n",
       "    <tr>\n",
       "      <th>BAXTER JOHN C</th>\n",
       "      <td>267102</td>\n",
       "      <td>NaN</td>\n",
       "      <td>1295738</td>\n",
       "      <td>5634343</td>\n",
       "      <td>6680544</td>\n",
       "      <td>1200000</td>\n",
       "      <td>3942714</td>\n",
       "      <td>NaN</td>\n",
       "      <td>NaN</td>\n",
       "      <td>10623258</td>\n",
       "      <td>...</td>\n",
       "      <td>NaN</td>\n",
       "      <td>NaN</td>\n",
       "      <td>2660303</td>\n",
       "      <td>NaN</td>\n",
       "      <td>False</td>\n",
       "      <td>NaN</td>\n",
       "      <td>-1386055</td>\n",
       "      <td>1586055</td>\n",
       "      <td>NaN</td>\n",
       "      <td>NaN</td>\n",
       "    </tr>\n",
       "    <tr>\n",
       "      <th>BAY FRANKLIN R</th>\n",
       "      <td>239671</td>\n",
       "      <td>NaN</td>\n",
       "      <td>260455</td>\n",
       "      <td>827696</td>\n",
       "      <td>NaN</td>\n",
       "      <td>400000</td>\n",
       "      <td>145796</td>\n",
       "      <td>NaN</td>\n",
       "      <td>-82782</td>\n",
       "      <td>63014</td>\n",
       "      <td>...</td>\n",
       "      <td>NaN</td>\n",
       "      <td>NaN</td>\n",
       "      <td>69</td>\n",
       "      <td>NaN</td>\n",
       "      <td>False</td>\n",
       "      <td>NaN</td>\n",
       "      <td>-201641</td>\n",
       "      <td>NaN</td>\n",
       "      <td>frank.bay@enron.com</td>\n",
       "      <td>NaN</td>\n",
       "    </tr>\n",
       "  </tbody>\n",
       "</table>\n",
       "<p>5 rows × 21 columns</p>\n",
       "</div>"
      ],
      "text/plain": [
       "                    salary to_messages deferral_payments total_payments  \\\n",
       "ALLEN PHILLIP K     201955        2902           2869717        4484442   \n",
       "BADUM JAMES P          NaN         NaN            178980         182466   \n",
       "BANNANTINE JAMES M     477         566               NaN         916197   \n",
       "BAXTER JOHN C       267102         NaN           1295738        5634343   \n",
       "BAY FRANKLIN R      239671         NaN            260455         827696   \n",
       "\n",
       "                   exercised_stock_options    bonus restricted_stock  \\\n",
       "ALLEN PHILLIP K                    1729541  4175000           126027   \n",
       "BADUM JAMES P                       257817      NaN              NaN   \n",
       "BANNANTINE JAMES M                 4046157      NaN          1757552   \n",
       "BAXTER JOHN C                      6680544  1200000          3942714   \n",
       "BAY FRANKLIN R                         NaN   400000           145796   \n",
       "\n",
       "                   shared_receipt_with_poi restricted_stock_deferred  \\\n",
       "ALLEN PHILLIP K                       1407                   -126027   \n",
       "BADUM JAMES P                          NaN                       NaN   \n",
       "BANNANTINE JAMES M                     465                   -560222   \n",
       "BAXTER JOHN C                          NaN                       NaN   \n",
       "BAY FRANKLIN R                         NaN                    -82782   \n",
       "\n",
       "                   total_stock_value           ...           loan_advances  \\\n",
       "ALLEN PHILLIP K              1729541           ...                     NaN   \n",
       "BADUM JAMES P                 257817           ...                     NaN   \n",
       "BANNANTINE JAMES M           5243487           ...                     NaN   \n",
       "BAXTER JOHN C               10623258           ...                     NaN   \n",
       "BAY FRANKLIN R                 63014           ...                     NaN   \n",
       "\n",
       "                   from_messages    other from_this_person_to_poi    poi  \\\n",
       "ALLEN PHILLIP K             2195      152                      65  False   \n",
       "BADUM JAMES P                NaN      NaN                     NaN  False   \n",
       "BANNANTINE JAMES M            29   864523                       0  False   \n",
       "BAXTER JOHN C                NaN  2660303                     NaN  False   \n",
       "BAY FRANKLIN R               NaN       69                     NaN  False   \n",
       "\n",
       "                   director_fees deferred_income long_term_incentive  \\\n",
       "ALLEN PHILLIP K              NaN        -3081055              304805   \n",
       "BADUM JAMES P                NaN             NaN                 NaN   \n",
       "BANNANTINE JAMES M           NaN           -5104                 NaN   \n",
       "BAXTER JOHN C                NaN        -1386055             1586055   \n",
       "BAY FRANKLIN R               NaN         -201641                 NaN   \n",
       "\n",
       "                                 email_address from_poi_to_this_person  \n",
       "ALLEN PHILLIP K        phillip.allen@enron.com                      47  \n",
       "BADUM JAMES P                              NaN                     NaN  \n",
       "BANNANTINE JAMES M  james.bannantine@enron.com                      39  \n",
       "BAXTER JOHN C                              NaN                     NaN  \n",
       "BAY FRANKLIN R             frank.bay@enron.com                     NaN  \n",
       "\n",
       "[5 rows x 21 columns]"
      ]
     },
     "execution_count": 3,
     "metadata": {},
     "output_type": "execute_result"
    }
   ],
   "source": [
    "### Load the dictionary containing the dataset\n",
    "\n",
    "with open(\"final_project_dataset.pkl\", \"r\") as data_file:\n",
    "    data_dict = pickle.load(data_file)\n",
    "\n",
    "# data_dict\n",
    "# data_dict['ALLEN PHILLIP K']\n",
    "\n",
    "# Transform data from dictionary to the Pandas DataFrame\n",
    "import pandas as pd\n",
    "df = pd.DataFrame.from_dict(data_dict, orient = 'index')\n",
    "\n",
    "df.head()"
   ]
  },
  {
   "cell_type": "code",
   "execution_count": 4,
   "metadata": {},
   "outputs": [
    {
     "name": "stdout",
     "output_type": "stream",
     "text": [
      "Total Number of Data Points: 146\n"
     ]
    }
   ],
   "source": [
    "#len(df.notnull())\n",
    "\n",
    "# Total number of data points \n",
    "\n",
    "print(\"Total Number of Data Points: %i\" %len(data_dict))"
   ]
  },
  {
   "cell_type": "code",
   "execution_count": 5,
   "metadata": {},
   "outputs": [
    {
     "name": "stdout",
     "output_type": "stream",
     "text": [
      "Total Number of Person of Interest     : 18\n",
      "Total Number of Not Person of Interest : 128\n"
     ]
    }
   ],
   "source": [
    "# Allocation across classes (POI/non-POI)\n",
    "\n",
    "poi = 0\n",
    "non_poi = 0\n",
    "\n",
    "for person in data_dict:\n",
    "    if data_dict[person]['poi'] == True:\n",
    "       poi += 1\n",
    "    else:\n",
    "        non_poi += 1\n",
    "print(\"Total Number of Person of Interest     : %i\" % poi)\n",
    "print(\"Total Number of Not Person of Interest : %i\" % non_poi)\n"
   ]
  },
  {
   "cell_type": "code",
   "execution_count": 6,
   "metadata": {},
   "outputs": [
    {
     "name": "stdout",
     "output_type": "stream",
     "text": [
      "Total Number of Features used : 20\n"
     ]
    }
   ],
   "source": [
    "# Number of features used\n",
    "all_features = data_dict[data_dict.keys()[0]].keys()\n",
    "\n",
    "len(all_features)\n",
    "\n",
    "all_features, features_list\n",
    "\n",
    "print(\"Total Number of Features used : %i\" % len(features_list))\n"
   ]
  },
  {
   "cell_type": "code",
   "execution_count": 7,
   "metadata": {
    "collapsed": true
   },
   "outputs": [],
   "source": [
    "# print features_list"
   ]
  },
  {
   "cell_type": "code",
   "execution_count": 8,
   "metadata": {
    "scrolled": true
   },
   "outputs": [
    {
     "name": "stdout",
     "output_type": "stream",
     "text": [
      "The Number of Missing values for each Feature: \n",
      "salary: 51\n",
      "to_messages: 60\n",
      "deferral_payments: 107\n",
      "total_payments: 21\n",
      "loan_advances: 142\n",
      "bonus: 64\n",
      "email_address: 35\n",
      "restricted_stock_deferred: 128\n",
      "total_stock_value: 20\n",
      "shared_receipt_with_poi: 60\n",
      "long_term_incentive: 80\n",
      "exercised_stock_options: 44\n",
      "from_messages: 60\n",
      "other: 53\n",
      "from_poi_to_this_person: 60\n",
      "from_this_person_to_poi: 60\n",
      "poi: 0\n",
      "deferred_income: 97\n",
      "expenses: 51\n",
      "restricted_stock: 36\n",
      "director_fees: 129\n"
     ]
    }
   ],
   "source": [
    "# Are there features with many missing values? etc.\n",
    "\n",
    "missing_values = {}\n",
    "\n",
    "for feature in all_features:\n",
    "    missing_values[feature] = 0\n",
    "    \n",
    "for emp in data_dict:\n",
    "    for feature in data_dict[emp]:\n",
    "        if data_dict[emp][feature] == \"NaN\":\n",
    "            missing_values[feature] += 1\n",
    "            \n",
    "print(\"The Number of Missing values for each Feature: \")\n",
    "\n",
    "for feature in missing_values:\n",
    "    print(\"%s: %i\" %(feature, missing_values[feature]))\n",
    "    "
   ]
  },
  {
   "cell_type": "markdown",
   "metadata": {},
   "source": [
    "1.2 From the Data exploration, There are 146 data points and each with 20 features and a binary classification (\"poi\")\n",
    "\n",
    "1.3 In the 146 data points:\n",
    "\n",
    "Total Number of Person of Interest     : 18\n",
    "\n",
    "Total Number of Not Person of Interest : 128\n",
    "\n",
    "1.4 The Number of Missing values for each Feature: \n",
    "salary: 51\n",
    "\n",
    "to_messages: 60\n",
    "\n",
    "deferral_payments: 107\n",
    "\n",
    "total_payments: 21\n",
    "\n",
    "loan_advances: 142\n",
    "\n",
    "bonus: 64\n",
    "\n",
    "email_address: 35\n",
    "\n",
    "restricted_stock_deferred: 128\n",
    "\n",
    "total_stock_value: 20\n",
    "\n",
    "shared_receipt_with_poi: 60\n",
    "\n",
    "long_term_incentive: 80\n",
    "\n",
    "exercised_stock_options: 44\n",
    "\n",
    "from_messages: 60\n",
    "\n",
    "other: 53\n",
    "\n",
    "from_poi_to_this_person: 60\n",
    "\n",
    "from_this_person_to_poi: 60\n",
    "\n",
    "poi: 0\n",
    "\n",
    "deferred_income: 97\n",
    "\n",
    "expenses: 51\n",
    "\n",
    "restricted_stock: 36\n",
    "\n",
    "director_fees: 129"
   ]
  },
  {
   "cell_type": "markdown",
   "metadata": {},
   "source": [
    "## 2. Outliers "
   ]
  },
  {
   "cell_type": "code",
   "execution_count": 9,
   "metadata": {},
   "outputs": [
    {
     "data": {
      "image/png": "[encoded data removed]",
      "text/plain": [
       "<matplotlib.figure.Figure at 0xb8888d0>"
      ]
     },
     "metadata": {},
     "output_type": "display_data"
    }
   ],
   "source": [
    "### Task 2: Find out the Outliers and Remove the outliers\n",
    "from feature_format import featureFormat, targetFeatureSplit\n",
    "### Identify Outliers by ploting\n",
    "## 1.\n",
    "features = [\"salary\", \"bonus\"]\n",
    "\n",
    "data = featureFormat(data_dict, features)\n",
    "\n",
    "for point in data:\n",
    "    salary = point[0]\n",
    "    bonus  = point[1]\n",
    "    matplotlib.pyplot.scatter( salary, bonus )\n",
    "\n",
    "matplotlib.pyplot.xlabel(\"salary\")\n",
    "matplotlib.pyplot.ylabel(\"bonus\")\n",
    "matplotlib.pyplot.show()\n"
   ]
  },
  {
   "cell_type": "markdown",
   "metadata": {},
   "source": [
    "2.1 During the initial analysis of the data and by plotting features such as Salaries vs Bonuses, I was able to identify that there was one significant outlier. By using the plot and the original dataset PDF in final_project/enron61702insiderpay.pdf, I able to identify that the outlier is \"Total\". The dictionary key is \"TOTAL\". It is a spreadsheet quirk. Lets remove and replot."
   ]
  },
  {
   "cell_type": "code",
   "execution_count": 11,
   "metadata": {},
   "outputs": [
    {
     "data": {
      "image/png": "[encoded data removed]",
      "text/plain": [
       "<matplotlib.figure.Figure at 0xe18e1d0>"
      ]
     },
     "metadata": {},
     "output_type": "display_data"
    }
   ],
   "source": [
    "# Remove this outlier\n",
    "\n",
    "data_dict.pop('TOTAL', 0)\n",
    "data = featureFormat(data_dict, features)\n",
    "\n",
    "for point in data:\n",
    "    salary = point[0]\n",
    "    bonus = point[1]\n",
    "    matplotlib.pyplot.scatter( salary, bonus )\n",
    "\n",
    "matplotlib.pyplot.xlabel(\"salary\")\n",
    "matplotlib.pyplot.ylabel(\"bonus\")\n",
    "matplotlib.pyplot.show()\n"
   ]
  },
  {
   "cell_type": "markdown",
   "metadata": {},
   "source": [
    "2.2 Look for more outliers to investigate; I am looking the following features according to my intution.\n",
    "\n",
    "a) 'total_payments', 'total_stock_value' , 'from_poi_to_this_person', 'from_this_person_to_poi'\n",
    "\n",
    "b) People made bonuses of at least 5 million dollars, and a salary of over 1 million dollars; in other words, they made out like bandits. What are the names associated with those points?\n"
   ]
  },
  {
   "cell_type": "code",
   "execution_count": 12,
   "metadata": {},
   "outputs": [
    {
     "data": {
      "image/png": "[encoded data removed]",
      "text/plain": [
       "<matplotlib.figure.Figure at 0xe68afd0>"
      ]
     },
     "metadata": {},
     "output_type": "display_data"
    },
    {
     "name": "stdout",
     "output_type": "stream",
     "text": [
      "None\n"
     ]
    },
    {
     "data": {
      "image/png": "[encoded data removed]",
      "text/plain": [
       "<matplotlib.figure.Figure at 0xdc660f0>"
      ]
     },
     "metadata": {},
     "output_type": "display_data"
    },
    {
     "name": "stdout",
     "output_type": "stream",
     "text": [
      "None\n"
     ]
    }
   ],
   "source": [
    "import matplotlib.pyplot\n",
    "def Outliers(data_set, feature_x, feature_y):\n",
    "    \n",
    "    data = featureFormat(data_set, [feature_x, feature_y])\n",
    "    for point in data:\n",
    "        x = point[0]\n",
    "        y = point[1]\n",
    "        matplotlib.pyplot.scatter( x, y )\n",
    "    matplotlib.pyplot.xlabel(feature_x)\n",
    "    matplotlib.pyplot.ylabel(feature_y)\n",
    "    matplotlib.pyplot.show()\n",
    "    \n",
    "print(Outliers(data_dict, 'total_payments', 'total_stock_value'))\n",
    "\n",
    "print(Outliers(data_dict, 'from_poi_to_this_person', 'from_this_person_to_poi'))\n"
   ]
  },
  {
   "cell_type": "code",
   "execution_count": 13,
   "metadata": {},
   "outputs": [
    {
     "name": "stdout",
     "output_type": "stream",
     "text": [
      "LAY KENNETH L\n",
      "SKILLING JEFFREY K\n"
     ]
    }
   ],
   "source": [
    "# Two people made bonuses of at least 5 million dollars, and a salary of over 1 million dollars; in other words, they made out like bandits.\n",
    "# What are the names associated with those points?\n",
    "\n",
    "for employee in data_dict:\n",
    "    if (data_dict[employee][\"salary\"] != 'NaN') and (data_dict[employee][\"bonus\"] != 'NaN'):\n",
    "        if float(data_dict[employee][\"salary\"]) >1000000 and float(data_dict[employee][\"bonus\"])>5000000:\n",
    "            print employee\n",
    "            "
   ]
  },
  {
   "cell_type": "code",
   "execution_count": 14,
   "metadata": {},
   "outputs": [
    {
     "name": "stdout",
     "output_type": "stream",
     "text": [
      "BAXTER JOHN C\n",
      "HORTON STANLEY C\n",
      "WALLS JR ROBERT H\n",
      "LAVORATO JOHN J\n",
      "WHALLEY LAWRENCE G\n",
      "LAY KENNETH L\n",
      "SKILLING JEFFREY K\n",
      "KEAN STEVEN J\n",
      "WHITE JR THOMAS E\n",
      "DIMICHELE RICHARD G\n",
      "FREVERT MARK A\n",
      "PAI LOU L\n",
      "IZZO LAWRENCE L\n"
     ]
    }
   ],
   "source": [
    "# More outliers to investigate\n",
    "\n",
    "for employee in data_dict:\n",
    "    if (data_dict[employee][\"total_payments\"] != 'NaN') and (data_dict[employee][\"total_stock_value\"] != 'NaN'):\n",
    "        if float(data_dict[employee][\"total_payments\"]) > 1000000 and float(data_dict[employee][\"total_stock_value\"])> 4500000:\n",
    "            print employee"
   ]
  },
  {
   "cell_type": "code",
   "execution_count": 15,
   "metadata": {},
   "outputs": [
    {
     "name": "stdout",
     "output_type": "stream",
     "text": [
      "LAVORATO JOHN J\n"
     ]
    }
   ],
   "source": [
    "# # More outliers from email to and from\n",
    "\n",
    "for employee in data_dict:\n",
    "    if (data_dict[employee][\"from_poi_to_this_person\"] != 'NaN') and (data_dict[employee][\"from_this_person_to_poi\"] != 'NaN'):\n",
    "        if float(data_dict[employee][\"from_poi_to_this_person\"]) > 400 and float(data_dict[employee][\"from_this_person_to_poi\"])> 350:\n",
    "            print employee"
   ]
  },
  {
   "cell_type": "code",
   "execution_count": 16,
   "metadata": {},
   "outputs": [
    {
     "name": "stdout",
     "output_type": "stream",
     "text": [
      "The top 4 salary outliers are :\n",
      "\n",
      "[('SKILLING JEFFREY K', 1111258), ('LAY KENNETH L', 1072321), ('FREVERT MARK A', 1060932), ('PICKERING MARK R', 655037)]\n"
     ]
    }
   ],
   "source": [
    "# These outliers belong to our person of interest.\n",
    "\n",
    "outliers = []\n",
    "for key in data_dict:\n",
    "    value = data_dict[key]['salary']\n",
    "    if value == 'NaN':\n",
    "        continue\n",
    "    outliers.append((key, int(value)))\n",
    "\n",
    "top_outliers = (sorted(outliers,key=lambda x:x[1],reverse=True)[:4])\n",
    "print \"The top 4 salary outliers are :\\n\"\n",
    "print top_outliers"
   ]
  },
  {
   "cell_type": "code",
   "execution_count": 17,
   "metadata": {},
   "outputs": [
    {
     "name": "stdout",
     "output_type": "stream",
     "text": [
      "The top 4 total_payments outliers are :\n",
      "\n",
      "[('LAY KENNETH L', 103559793), ('FREVERT MARK A', 17252530), ('BHATNAGAR SANJAY', 15456290), ('LAVORATO JOHN J', 10425757)]\n"
     ]
    }
   ],
   "source": [
    "outliers = []\n",
    "for key in data_dict:\n",
    "    value = data_dict[key]['total_payments']\n",
    "    if value == 'NaN':\n",
    "        continue\n",
    "    outliers.append((key, int(value)))\n",
    "\n",
    "top_outliers = (sorted(outliers,key=lambda x:x[1],reverse=True)[:4])\n",
    "print \"The top 4 total_payments outliers are :\\n\"\n",
    "print top_outliers"
   ]
  },
  {
   "cell_type": "markdown",
   "metadata": {},
   "source": [
    "2.3 From the above analysis. I found dcionary key \"TOTAL\" which is a spreadsheet quirk. Also following POIs \"LAY KENNETH L\",\n",
    "\"SKILLING JEFFREY K\" , \"LAVORATO JOHN J\" and some are making total payment over 1 million dollars, and a total stock value over 4.5 million dollars. But those outlier data points are valid and required for my investigation.\n"
   ]
  },
  {
   "cell_type": "code",
   "execution_count": 18,
   "metadata": {},
   "outputs": [
    {
     "data": {
      "text/plain": [
       "[('HAEDICKE MARK E', 2),\n",
       " ('DETMERING TIMOTHY J', 2),\n",
       " ('LAY KENNETH L', 2),\n",
       " ('ALLEN PHILLIP K', 2),\n",
       " ('REYNOLDS LAWRENCE', 2),\n",
       " ('FREVERT MARK A', 2),\n",
       " ('BAXTER JOHN C', 3),\n",
       " ('PIPER GREGORY F', 3),\n",
       " ('DERRICK JR. JAMES V', 3),\n",
       " ('HANNON KEVIN P', 4),\n",
       " ('MULLER MARK S', 4),\n",
       " ('RIEKER PAULA H', 4),\n",
       " ('LINDHOLM TOD A', 4),\n",
       " ('OLSON CINDY K', 4),\n",
       " ('GAHN ROBERT S', 4),\n",
       " ('HERMANN ROBERT J', 4),\n",
       " ('BELDEN TIMOTHY N', 4),\n",
       " ('RICE KENNETH D', 4),\n",
       " ('WASAFF GEORGE', 4),\n",
       " ('SHARP VICTORIA T', 4),\n",
       " ('BAY FRANKLIN R', 4),\n",
       " ('BUY RICHARD B', 4),\n",
       " ('ELLIOTT STEVEN', 5),\n",
       " ('MCMAHON JEFFREY', 5),\n",
       " ('BLACHMAN JEREMY M', 5),\n",
       " ('COLWELL WESLEY', 5),\n",
       " ('WALLS JR ROBERT H', 5),\n",
       " ('SHANKMAN JEFFREY A', 5),\n",
       " ('BERGSIEKER RICHARD P', 5),\n",
       " ('BIBI PHILIPPE A', 5),\n",
       " ('ECHOLS JOHN B', 5),\n",
       " ('LAVORATO JOHN J', 5),\n",
       " ('BANNANTINE JAMES M', 5),\n",
       " ('SHELBY REX', 5),\n",
       " ('DEFFNER JOSEPH M', 5),\n",
       " ('WHALLEY LAWRENCE G', 5),\n",
       " ('MCCONNELL MICHAEL S', 5),\n",
       " ('DELAINEY DAVID W', 5),\n",
       " ('BUTTS ROBERT H', 5),\n",
       " ('FALLON JAMES B', 5),\n",
       " ('BOWEN JR RAYMOND M', 5),\n",
       " ('FITZGERALD JAY L', 5),\n",
       " ('DIMICHELE RICHARD G', 5),\n",
       " ('DURAN WILLIAM D', 5),\n",
       " ('THORN TERENCE H', 5),\n",
       " ('FASTOW ANDREW S', 5),\n",
       " ('CALGER CHRISTOPHER F', 5),\n",
       " ('KAMINSKI WINCENTY J', 5),\n",
       " ('COX DAVID', 5),\n",
       " ('SKILLING JEFFREY K', 5),\n",
       " ('KEAN STEVEN J', 5),\n",
       " ('MCCLELLAN GEORGE', 5),\n",
       " ('BUCHANAN HAROLD G', 5),\n",
       " ('MURRAY JULIA H', 5),\n",
       " ('GARLAND C KEVIN', 5),\n",
       " ('DIETRICH JANET R', 5),\n",
       " ('KOENIG MARK E', 5),\n",
       " ('TILNEY ELIZABETH A', 5),\n",
       " ('CAUSEY RICHARD A', 5),\n",
       " ('DONAHUE JR JEFFREY M', 5),\n",
       " ('GLISAN JR BEN F', 5),\n",
       " ('JACKSON CHARLENE R', 6),\n",
       " ('WESTFAHL RICHARD K', 6),\n",
       " ('KITCHEN LOUISE', 6),\n",
       " ('HICKERSON GARY J', 6),\n",
       " ('KOPPER MICHAEL J', 6),\n",
       " ('GOLD JOSEPH', 6),\n",
       " ('SHAPIRO RICHARD S', 6),\n",
       " ('SHERRIFF JOHN R', 6),\n",
       " ('SULLIVAN-SHAKLOVITZ COLLEEN', 6),\n",
       " ('CUMBERLAND MICHAEL S', 6),\n",
       " ('OVERDYKE JR JERE C', 6),\n",
       " ('WHITE JR THOMAS E', 6),\n",
       " ('CARTER REBECCA C', 6),\n",
       " ('PAI LOU L', 6),\n",
       " ('IZZO LAWRENCE L', 6),\n",
       " ('MARTIN AMANDA K', 6),\n",
       " ('METTS MARK', 7),\n",
       " ('MORDAUNT KRISTINA M', 7),\n",
       " ('SUNDE MARTIN', 7),\n",
       " ('BECK SALLY W', 7),\n",
       " ('LEFF DANIEL P', 7),\n",
       " ('KISHKILL JOSEPH G', 7),\n",
       " ('BAZELIDES PHILIP J', 7),\n",
       " ('STABLER FRANK', 7),\n",
       " ('JAEDICKE ROBERT', 7),\n",
       " ('PICKERING MARK R', 7),\n",
       " ('YEAGER F SCOTT', 7),\n",
       " ('TAYLOR MITCHELL S', 7),\n",
       " ('HUMPHREY GENE E', 8),\n",
       " ('BELFER ROBERT', 8),\n",
       " ('BERBERIAN DAVID', 8),\n",
       " ('REDMOND BRIAN L', 8),\n",
       " ('BHATNAGAR SANJAY', 8),\n",
       " ('HIRKO JOSEPH', 8),\n",
       " ('MEYER ROCKFORD G', 9),\n",
       " ('NOLES JAMES L', 9),\n",
       " ('GIBBS DANA R', 9),\n",
       " ('WALTERS GARETH W', 9),\n",
       " ('DUNCAN JOHN H', 9),\n",
       " ('LEMAISTRE CHARLES', 9),\n",
       " ('BADUM JAMES P', 9),\n",
       " ('HORTON STANLEY C', 9),\n",
       " ('PRENTICE JAMES', 9),\n",
       " ('GRAY RODNEY', 9),\n",
       " ('DODSON KEITH', 9),\n",
       " ('LOWRY CHARLES P', 10),\n",
       " ('CHAN RONNIE', 10),\n",
       " ('URQUHART JOHN A', 10),\n",
       " ('HAUG DAVID L', 10),\n",
       " ('MENDELSOHN JOHN', 10),\n",
       " ('HAYES ROBERT E', 10),\n",
       " ('MEYER JEROME J', 10),\n",
       " ('GATHMANN WILLIAM D', 10),\n",
       " ('FOY JOE', 10),\n",
       " ('PEREIRA PAULO V. FERRAZ', 10),\n",
       " ('BLAKE JR. NORMAN P', 10),\n",
       " ('UMANOFF ADAM S', 10),\n",
       " ('WINOKUR JR. HERBERT S', 10),\n",
       " ('YEAP SOON', 10),\n",
       " ('FUGH JOHN L', 10),\n",
       " ('CORDES WILLIAM R', 11),\n",
       " ('CLINE KENNETH W', 11),\n",
       " ('WAKEHAM JOHN', 11),\n",
       " ('MCDONALD REBECCA', 11),\n",
       " ('GILLIS JOHN', 11),\n",
       " ('MORAN MICHAEL P', 11),\n",
       " ('SHERRICK JEFFREY B', 11),\n",
       " ('FOWLER PEGGY', 11),\n",
       " ('CHRISTODOULOU DIOMEDES', 11),\n",
       " ('HUGHES JAMES A', 11),\n",
       " ('MCCARTY DANNY J', 11),\n",
       " ('SAVAGE FRANK', 11),\n",
       " ('WODRASKA JOHN', 12),\n",
       " ('WHALEY DAVID A', 12),\n",
       " ('LEWIS RICHARD', 12),\n",
       " ('POWERS WILLIAM', 12),\n",
       " ('PIRO JIM', 12),\n",
       " ('WROBEL BRUCE', 12),\n",
       " ('THE TRAVEL AGENCY IN THE PARK', 12),\n",
       " ('BROWN MICHAEL', 12),\n",
       " ('HAYSLETT RODERICK J', 12),\n",
       " ('SCRIMSHAW MATTHEW', 12),\n",
       " ('GRAMM WENDY L', 12),\n",
       " ('LOCKHART EUGENE E', 14)]"
      ]
     },
     "execution_count": 18,
     "metadata": {},
     "output_type": "execute_result"
    }
   ],
   "source": [
    "# Find number of \"NaN\" in the Financial Features\n",
    "NaN_dict = {}\n",
    "\n",
    "for person in data_dict:\n",
    "    NaN_dict[person] = 0\n",
    "    for feature in financial_features:\n",
    "        if data_dict[person][feature] == \"NaN\":\n",
    "            NaN_dict[person] += 1\n",
    "            \n",
    "sorted(NaN_dict.items(), key=lambda x: x[1])"
   ]
  },
  {
   "cell_type": "code",
   "execution_count": 19,
   "metadata": {},
   "outputs": [
    {
     "data": {
      "text/plain": [
       "({'bonus': 'NaN',\n",
       "  'deferral_payments': 'NaN',\n",
       "  'deferred_income': 'NaN',\n",
       "  'director_fees': 'NaN',\n",
       "  'email_address': 'NaN',\n",
       "  'exercised_stock_options': 'NaN',\n",
       "  'expenses': 'NaN',\n",
       "  'from_messages': 'NaN',\n",
       "  'from_poi_to_this_person': 'NaN',\n",
       "  'from_this_person_to_poi': 'NaN',\n",
       "  'loan_advances': 'NaN',\n",
       "  'long_term_incentive': 'NaN',\n",
       "  'other': 'NaN',\n",
       "  'poi': False,\n",
       "  'restricted_stock': 'NaN',\n",
       "  'restricted_stock_deferred': 'NaN',\n",
       "  'salary': 'NaN',\n",
       "  'shared_receipt_with_poi': 'NaN',\n",
       "  'to_messages': 'NaN',\n",
       "  'total_payments': 'NaN',\n",
       "  'total_stock_value': 'NaN'},\n",
       " {'bonus': 'NaN',\n",
       "  'deferral_payments': 'NaN',\n",
       "  'deferred_income': 'NaN',\n",
       "  'director_fees': 'NaN',\n",
       "  'email_address': 'NaN',\n",
       "  'exercised_stock_options': 'NaN',\n",
       "  'expenses': 'NaN',\n",
       "  'from_messages': 'NaN',\n",
       "  'from_poi_to_this_person': 'NaN',\n",
       "  'from_this_person_to_poi': 'NaN',\n",
       "  'loan_advances': 'NaN',\n",
       "  'long_term_incentive': 'NaN',\n",
       "  'other': 362096,\n",
       "  'poi': False,\n",
       "  'restricted_stock': 'NaN',\n",
       "  'restricted_stock_deferred': 'NaN',\n",
       "  'salary': 'NaN',\n",
       "  'shared_receipt_with_poi': 'NaN',\n",
       "  'to_messages': 'NaN',\n",
       "  'total_payments': 362096,\n",
       "  'total_stock_value': 'NaN'})"
      ]
     },
     "execution_count": 19,
     "metadata": {},
     "output_type": "execute_result"
    }
   ],
   "source": [
    "data_dict[\"LOCKHART EUGENE E\"], data_dict[\"THE TRAVEL AGENCY IN THE PARK\"]"
   ]
  },
  {
   "cell_type": "markdown",
   "metadata": {},
   "source": [
    "2.4 Remove Outliers - Found out that the couple of data points, all of the feature are \"NaN\" in the Financial Features. I am going to drop those also with \"TOTAL\"."
   ]
  },
  {
   "cell_type": "code",
   "execution_count": 20,
   "metadata": {
    "collapsed": true
   },
   "outputs": [],
   "source": [
    "# Drop the outliers\n",
    "for key in [\"TOTAL\", \"THE TRAVEL AGENCY IN THE PARK\", \"LOCKHART EUGENE E\"]:\n",
    "    data_dict.pop(key, 0)\n",
    "\n",
    "#data_dict[\"LOCKHART EUGENE E\"], data_dict[\"THE TRAVEL AGENCY IN THE PARK\"], data_dict[\"TOTAL\"]"
   ]
  },
  {
   "cell_type": "markdown",
   "metadata": {},
   "source": [
    "## 3. Feature Selection / Engineering Features"
   ]
  },
  {
   "cell_type": "markdown",
   "metadata": {},
   "source": [
    "First,I go through the features and use my intution to see any pattern in the features, also by doing visualization techniques and code up find any usefull festures. I try to ignore the feature if it is noisy, if it causes overfitting and strongly related with a feature thats's allready present. Does the feature giving descriminating power between poi and non poi, use human intution what feature might contain usefull information. I select the feature with bear minimun number of features that give much infromation as possible. If feature give not much information, I try to ignore those.\n"
   ]
  },
  {
   "cell_type": "markdown",
   "metadata": {},
   "source": [
    "#### 3.1 Selecting and Creating New Features"
   ]
  },
  {
   "cell_type": "markdown",
   "metadata": {
    "collapsed": true
   },
   "source": [
    "Mainly emails from each employees should take into consideration, including tens of thousands of emails and it should had detailed financial data for top executives. It could contain useful information for identifying POIs. Insider Salary, Bonus, Long Term Incentive, Deferred Income, Total Payments, Exercised Stock Options, Total Stock Value and number of to/from emails messages are very usefull dataset information for the investigation.\n",
    "\n",
    "I select those features in my data that contribute most to the prediction output in which I am interested. Having irrelevant features in the data can decrease the accuracy of models. Selected those to reduce Overfitting and also considered reduce Training Time.\n",
    "\n",
    "In our dataset we’ve got the number of emails sent to POI’s and received from POI’s for most of the employees. However, if an employee sends or receives a lot of emails in general, it is likely that the quantity of them sent or received from POI’s would be large as well. This is why we are creating these two new features: - fraction of ‘to_messages’ received from a POI; - fraction of ‘from_messages’ sent to a POI.\n",
    "\n",
    "When I engineered a feature that identified when a given person was on the same email as a POI. So for example, if Ken Lay and Katie Malone are both recipients of the same email message, then Katie Malone should have her \"shared receipt\" feature incremented. If she shares lots of emails with POIs, maybe she's a POI herself. Ken Lay always shares receipt with a POI, because he is a POI. So the \"shared receipt\" feature became extremely powerful in finding POIs, because it effectively was encoding the label for each person as a feature. But it may introduce a bug too.\n"
   ]
  },
  {
   "cell_type": "code",
   "execution_count": 21,
   "metadata": {},
   "outputs": [
    {
     "name": "stdout",
     "output_type": "stream",
     "text": [
      "\n",
      "0.0470879801735\n",
      "0.0344827586207\n",
      "\n",
      "0.0\n",
      "0.0\n",
      "\n",
      "0.0\n",
      "0.0\n",
      "\n",
      "0.0130890052356\n",
      "0.0\n",
      "\n",
      "0.0306220095694\n",
      "0.65625\n",
      "\n",
      "0.0\n",
      "0.0\n",
      "\n",
      "0.0\n",
      "0.0\n",
      "\n",
      "0.0246284501062\n",
      "0.541666666667\n",
      "\n",
      "0.0187234042553\n",
      "0.0139794967381\n",
      "\n",
      "0.0492730210016\n",
      "0.216216216216\n",
      "\n",
      "0.078125\n",
      "1.0\n",
      "\n",
      "0.108108108108\n",
      "0.0\n",
      "\n",
      "0.010101010101\n",
      "0.142857142857\n",
      "\n",
      "0.013978088402\n",
      "0.342105263158\n",
      "\n",
      "0.0\n",
      "0.0\n",
      "\n",
      "0.0\n",
      "0.0\n",
      "\n",
      "0.136518771331\n",
      "0.275\n",
      "\n",
      "0.0882352941176\n",
      "0.0\n",
      "\n",
      "0.0968992248062\n",
      "0.339285714286\n",
      "\n",
      "0.0\n",
      "0.0\n",
      "\n",
      "0.0\n",
      "0.0\n",
      "\n",
      "0.0253353204173\n",
      "0.0\n",
      "\n",
      "0.0302227573751\n",
      "0.112268518519\n",
      "\n",
      "0.0\n",
      "0.0\n",
      "\n",
      "0.0\n",
      "0.0\n",
      "\n",
      "0.0291834833903\n",
      "0.0309585975382\n",
      "\n",
      "0.0\n",
      "0.0\n",
      "\n",
      "0.0104438642298\n",
      "0.0\n",
      "\n",
      "0.0\n",
      "0.0\n",
      "\n",
      "0.014312383323\n",
      "0.2\n",
      "\n",
      "0.0263554216867\n",
      "0.585365853659\n",
      "\n",
      "0.0\n",
      "0.0\n",
      "\n",
      "0.0196855775803\n",
      "0.0888786553074\n",
      "\n",
      "0.00698080279232\n",
      "0.368421052632\n",
      "\n",
      "0.0\n",
      "0.0\n",
      "\n",
      "0.0\n",
      "0.0\n",
      "\n",
      "0.030303030303\n",
      "0.037037037037\n",
      "\n",
      "0.0\n",
      "0.0\n",
      "\n",
      "0.0105042016807\n",
      "0.0\n",
      "\n",
      "0.031746031746\n",
      "0.0\n",
      "\n",
      "0.0174459176553\n",
      "0.0093023255814\n",
      "\n",
      "0.0\n",
      "0.0\n",
      "\n",
      "0.0237420269313\n",
      "0.222222222222\n",
      "\n",
      "0.072737291638\n",
      "0.158994197292\n",
      "\n",
      "0.0\n",
      "0.0\n",
      "\n",
      "0.0\n",
      "0.0\n",
      "\n",
      "0.0\n",
      "0.0\n",
      "\n",
      "0.0\n",
      "0.0\n",
      "\n",
      "0.0\n",
      "0.0\n",
      "\n",
      "0.0689045936396\n",
      "0.0\n",
      "\n",
      "0.0\n",
      "0.0\n",
      "\n",
      "0.00488481087861\n",
      "0.0534979423868\n",
      "\n",
      "0.00878569187324\n",
      "0.25\n",
      "\n",
      "0.0577777777778\n",
      "0.358974358974\n",
      "\n",
      "0.0\n",
      "0.0\n",
      "\n",
      "0.16106442577\n",
      "0.0540540540541\n",
      "\n",
      "0.0\n",
      "0.0\n",
      "\n",
      "0.0309021432132\n",
      "0.0431654676259\n",
      "\n",
      "0.0276359267047\n",
      "0.0707512764406\n",
      "\n",
      "0.0\n",
      "0.0625\n",
      "\n",
      "0.0213385063046\n",
      "0.19843597263\n",
      "\n",
      "0.0\n",
      "0.0\n",
      "\n",
      "0.0\n",
      "0.0\n",
      "\n",
      "0.0\n",
      "0.0\n",
      "\n",
      "0.0\n",
      "0.0\n",
      "\n",
      "0.0287853966768\n",
      "0.444444444444\n",
      "\n",
      "0.0\n",
      "0.0\n",
      "\n",
      "0.0168918918919\n",
      "0.288461538462\n",
      "\n",
      "0.0604026845638\n",
      "0.0769230769231\n",
      "\n",
      "0.0\n",
      "0.0\n",
      "\n",
      "0.0\n",
      "0.0\n",
      "\n",
      "0.0298165137615\n",
      "0.0\n",
      "\n",
      "0.0\n",
      "0.0\n",
      "\n",
      "0.0\n",
      "0.0\n",
      "\n",
      "0.0\n",
      "0.0\n",
      "\n",
      "0.0448989773011\n",
      "0.0314270994333\n",
      "\n",
      "0.0753498385361\n",
      "0.555555555556\n",
      "\n",
      "0.0\n",
      "0.0\n",
      "\n",
      "0.00106837606838\n",
      "0.5\n",
      "\n",
      "0.0\n",
      "0.0\n",
      "\n",
      "0.122082585278\n",
      "0.221719457014\n",
      "\n",
      "0.0\n",
      "0.0\n",
      "\n",
      "0.0285320986109\n",
      "0.223140495868\n",
      "\n",
      "0.117256637168\n",
      "0.25\n",
      "\n",
      "0.0\n",
      "0.0\n",
      "\n",
      "0.0\n",
      "0.0\n",
      "\n",
      "0.0\n",
      "0.0\n",
      "\n",
      "0.076597382602\n",
      "0.173611111111\n",
      "\n",
      "0.046408839779\n",
      "0.222222222222\n",
      "\n",
      "0.00889950075971\n",
      "0.0119014476615\n",
      "\n",
      "0.0\n",
      "0.121212121212\n",
      "\n",
      "0.0\n",
      "0.0\n",
      "\n",
      "0.0\n",
      "0.0\n",
      "\n",
      "0.0\n",
      "0.0\n",
      "\n",
      "0.0242624758754\n",
      "0.277777777778\n",
      "\n",
      "0.0\n",
      "0.0\n",
      "\n",
      "0.0636215334421\n",
      "0.72\n",
      "\n",
      "0.0\n",
      "0.0\n",
      "\n",
      "0.0\n",
      "0.0\n",
      "\n",
      "0.00779510022272\n",
      "0.0\n",
      "\n",
      "0.0\n",
      "0.0\n",
      "\n",
      "0.0109769484083\n",
      "0.0572569906791\n",
      "\n",
      "0.0\n",
      "0.0\n",
      "\n",
      "0.055\n",
      "0.233333333333\n",
      "\n",
      "0.0\n",
      "0.0\n",
      "\n",
      "0.0\n",
      "0.0\n",
      "\n",
      "0.0161957270848\n",
      "0.0296127562642\n",
      "\n",
      "0.00765306122449\n",
      "0.0441176470588\n",
      "\n",
      "0.0\n",
      "0.0\n",
      "\n",
      "0.0\n",
      "0.0\n",
      "\n",
      "0.00874831763122\n",
      "0.0243902439024\n",
      "\n",
      "0.0\n",
      "0.0\n",
      "\n",
      "0.0486787204451\n",
      "0.147058823529\n",
      "\n",
      "0.0\n",
      "0.0\n",
      "\n",
      "0.0\n",
      "0.0\n",
      "\n",
      "0.0\n",
      "0.0344827586207\n",
      "\n",
      "0.0929487179487\n",
      "0.466666666667\n",
      "\n",
      "0.0\n",
      "0.0\n",
      "\n",
      "0.0\n",
      "0.0\n",
      "\n",
      "0.00501824817518\n",
      "0.0444444444444\n",
      "\n",
      "0.0478468899522\n",
      "0.613636363636\n",
      "\n",
      "0.0568181818182\n",
      "0.214285714286\n",
      "\n",
      "0.0\n",
      "0.0\n",
      "\n",
      "0.0\n",
      "0.0\n",
      "\n",
      "0.118584758942\n",
      "0.222222222222\n",
      "\n",
      "0.0293443374599\n",
      "0.02200220022\n",
      "\n",
      "0.073893129771\n",
      "0.285714285714\n",
      "\n",
      "0.0\n",
      "0.0\n",
      "\n",
      "0.0\n",
      "0.0\n",
      "\n",
      "0.0132125330313\n",
      "0.0358152686145\n",
      "\n",
      "0.0\n",
      "0.0\n",
      "\n",
      "0.0239316239316\n",
      "0.493333333333\n",
      "\n",
      "0.0223251895535\n",
      "0.245901639344\n",
      "\n",
      "0.0\n",
      "0.0\n",
      "\n",
      "0.0564516129032\n",
      "0.263157894737\n",
      "\n",
      "0.0217391304348\n",
      "0.578947368421\n",
      "\n",
      "0.00525624178712\n",
      "0.0\n",
      "\n",
      "0.0442804428044\n",
      "0.0674264007597\n",
      "\n",
      "0.0\n",
      "0.0\n",
      "\n",
      "0.0306553911205\n",
      "0.244897959184\n",
      "\n",
      "0.0\n",
      "0.0\n",
      "\n",
      "0.217341040462\n",
      "0.5\n",
      "\n",
      "0.0595647193585\n",
      "0.375\n",
      "['poi', 'salary', 'deferral_payments', 'total_payments', 'loan_advances', 'bonus', 'restricted_stock_deferred', 'deferred_income', 'total_stock_value', 'expenses', 'exercised_stock_options', 'other', 'long_term_incentive', 'restricted_stock', 'director_fees', 'to_messages', 'from_poi_to_this_person', 'from_messages', 'from_this_person_to_poi', 'shared_receipt_with_poi', 'fraction_from_poi', 'fraction_to_poi']\n"
     ]
    }
   ],
   "source": [
    "### Task 3: Create new feature(s)\n",
    "### New Feature Selection\n",
    "\n",
    "### Store to my_dataset for easy export below.\n",
    "\n",
    "my_dataset = data_dict\n",
    "\n",
    "def computeFraction( poi_messages, all_messages ):\n",
    "    \"\"\" given a number messages to/from POI (numerator) \n",
    "        and number of all messages to/from a person (denominator),\n",
    "        return the fraction of messages to/from that person\n",
    "        that are from/to a POI\n",
    "   \"\"\"\n",
    "### Returns either the fraction of all messages to this person that come from POIs \n",
    "### or the fraction of all messages from this person that are sent to POIs\n",
    "### beware of \"NaN\" when there is no known email address (and so\n",
    "### no filled email features), and integer division!\n",
    "### in case of poi_messages or all_messages having \"NaN\" value, return 0.\n",
    "\n",
    "    fraction = 0.\n",
    "    \n",
    "    if all_messages == 'NaN':\n",
    "        return fraction\n",
    "    \n",
    "    if poi_messages == 'Nan':\n",
    "        poi_messages\n",
    "    \n",
    "    fraction = float((poi_messages) / float(all_messages))\n",
    "    \n",
    "    return fraction\n",
    "\n",
    "for name in my_dataset:\n",
    "\n",
    "    data_point = my_dataset[name]\n",
    "\n",
    "    print\n",
    "    from_poi_to_this_person = data_point[\"from_poi_to_this_person\"]\n",
    "    to_messages = data_point[\"to_messages\"]\n",
    "    fraction_from_poi = computeFraction( from_poi_to_this_person, to_messages )\n",
    "    print fraction_from_poi\n",
    "    data_point[\"fraction_from_poi\"] = fraction_from_poi\n",
    "\n",
    "\n",
    "    from_this_person_to_poi = data_point[\"from_this_person_to_poi\"]\n",
    "    from_messages = data_point[\"from_messages\"]\n",
    "    fraction_to_poi = computeFraction( from_this_person_to_poi, from_messages )\n",
    "    print fraction_to_poi\n",
    "    data_point[\"fraction_to_poi\"] = fraction_to_poi\n",
    "\n",
    "#features_list\n",
    "\n",
    "new_features_list =  features_list + ['fraction_from_poi', 'fraction_to_poi']\n",
    "\n",
    "print new_features_list\n",
    "\n",
    "#new_features_list"
   ]
  },
  {
   "cell_type": "markdown",
   "metadata": {},
   "source": [
    "#### 3.2 Selecting Best Features"
   ]
  },
  {
   "cell_type": "markdown",
   "metadata": {},
   "source": [
    "For an algorithm that supports getting the feature importances - decision tree or feature scores SelectKBest.\n",
    "\n",
    "There are several methods of automatically selecting features in sklearn. Many of them fall under the umbrella of univariate feature selection, which treats each feature independently and asks how much power it gives in classifying or regressing.\n",
    "\n",
    "There are two big univariate feature selection tools in sklearn: SelectPercentile and SelectKBest.\n",
    "\n",
    "1. SelectPercentile selects the X% of features that are most powerful (where X is a parameter)\n",
    "\n",
    "2. SelectKBest selects the K features that are most powerful (where K is a parameter).\n",
    "\n",
    "Univariate feature selection works by selecting the best features based on univariate statistical tests. It can be seen as a preprocessing step to an estimator. Scikit-learn exposes feature selection routines as objects that implement the transform method."
   ]
  },
  {
   "cell_type": "code",
   "execution_count": 22,
   "metadata": {},
   "outputs": [
    {
     "name": "stdout",
     "output_type": "stream",
     "text": [
      "[('exercised_stock_options', 24.815079733218194), ('total_stock_value', 24.182898678566879), ('bonus', 20.792252047181535), ('salary', 18.289684043404513), ('fraction_to_poi', 16.409712548035792), ('deferred_income', 11.458476579280369), ('long_term_incentive', 9.9221860131898225), ('restricted_stock', 9.2128106219771002), ('total_payments', 8.7727777300916756), ('shared_receipt_with_poi', 8.589420731682381), ('loan_advances', 7.1840556582887247), ('expenses', 6.0941733106389453), ('from_poi_to_this_person', 5.2434497133749582), ('other', 4.1874775069953749), ('fraction_from_poi', 3.1280917481567192), ('from_this_person_to_poi', 2.3826121082276739), ('director_fees', 2.1263278020077054), ('to_messages', 1.6463411294420076), ('deferral_payments', 0.22461127473600989), ('from_messages', 0.16970094762175533), ('restricted_stock_deferred', 0.065499652909942141)]\n",
      "KBest_features:\n",
      "['poi', 'exercised_stock_options', 'total_stock_value', 'bonus', 'salary', 'fraction_to_poi', 'deferred_income', 'long_term_incentive', 'restricted_stock', 'total_payments', 'shared_receipt_with_poi']\n"
     ]
    }
   ],
   "source": [
    "### Extract features and labels from dataset for local testing\n",
    "\n",
    "data = featureFormat(my_dataset, new_features_list, sort_keys = True)\n",
    "labels, features = targetFeatureSplit(data)\n",
    "\n",
    "from sklearn.feature_selection import SelectKBest, f_classif\n",
    "\n",
    "selector = SelectKBest(f_classif, k=10)\n",
    "selector.fit_transform(features, labels)\n",
    "scores = zip(new_features_list[1:],selector.scores_)\n",
    "sorted_scores = sorted(scores, key = lambda x: x[1], reverse=True)\n",
    "print sorted_scores\n",
    "\n",
    "KBest_features = poi_label + list(map(lambda x: x[0], sorted_scores))[0:10]\n",
    "print(\"KBest_features:\") \n",
    "\n",
    "print KBest_features"
   ]
  },
  {
   "cell_type": "markdown",
   "metadata": {
    "collapsed": true
   },
   "source": [
    "I deployed Univariate feature algorithm \"SelectKBest\". \n",
    "\n",
    "The sklearn.feature_selection module SelectKBest with f_classif parameter used for feature selection to reduce the features on sets. The features are selected  according to the k highest scores. In the total set of features, only the 11 ones are significant. Those features are added to the feature list to be the best features for the analysis.\n",
    "\n",
    "KBest_features:\n",
    "['poi', 'exercised_stock_options', 'total_stock_value', 'bonus', 'salary', 'fraction_to_poi', 'deferred_income', 'long_term_incentive', 'restricted_stock', 'total_payments', 'shared_receipt_with_poi']"
   ]
  },
  {
   "cell_type": "code",
   "execution_count": 23,
   "metadata": {
    "collapsed": true
   },
   "outputs": [],
   "source": [
    "# Replacing 'NaN' with \"0\" in data_dict\n",
    "for emp in data_dict:\n",
    "    for f in data_dict[emp]:\n",
    "        if data_dict[emp][f] == 'NaN':\n",
    "            # fill NaN values\n",
    "            data_dict[emp][f] = 0"
   ]
  },
  {
   "cell_type": "code",
   "execution_count": 24,
   "metadata": {
    "collapsed": true
   },
   "outputs": [],
   "source": [
    "# Store to my_dataset again after replace the \"NaN\" on data_dict \n",
    "my_dataset = data_dict\n",
    "\n",
    "# But SelectKBest also selected \"fraction_to_poi\". Which is in the \"KBest_features\".\n",
    "# Remove this one to have the initial features in the list.\n",
    "\n",
    "KBest_features.remove(\"fraction_to_poi\")"
   ]
  },
  {
   "cell_type": "markdown",
   "metadata": {},
   "source": [
    "#### 3.3 Feature Scaling"
   ]
  },
  {
   "cell_type": "code",
   "execution_count": 25,
   "metadata": {
    "collapsed": true
   },
   "outputs": [],
   "source": [
    "# Feature scaling - using MinMaxScaler\n",
    "# Apply MinMaxScaler to obtain the new scaled features:\n",
    "\n",
    "### 1. Dataset without new features \n",
    "from sklearn.preprocessing import MinMaxScaler\n",
    "scaler = MinMaxScaler()\n",
    "\n",
    "from sklearn import preprocessing\n",
    "\n",
    "data = featureFormat(my_dataset, KBest_features, sort_keys = True)\n",
    "labels, features = targetFeatureSplit(data)\n",
    "scaler = preprocessing.MinMaxScaler()\n",
    "features = scaler.fit_transform(features)\n"
   ]
  },
  {
   "cell_type": "markdown",
   "metadata": {},
   "source": [
    "1. What features did you end up using in your POI identifier?\n",
    "The two features I created are: \n",
    "\n",
    "    1.\"fraction_from_poi\"\n",
    "\n",
    "    2. \"fraction_to_poi\"\n",
    "\n",
    "\"fraction_from_poi\" - Which represents the ratio of the messages from POI to this person against all the messages sent to this person\n",
    "\n",
    "\"fraction_to_poi\" - Which represents the ratio from this person to POI against all messages from this person.\n",
    "\n",
    "2. What selection process did you use to pick them? I am using one of the univariate feature selection tools in sklearn. Which is \"SelectKBest\". \n",
    "\n",
    "3. Did you have to do any scaling? Yes, I applied \"MinMaxScaler\".\n",
    "\n",
    "Why or why not? \n",
    "\n",
    "1. New features - In our dataset we’ve got the number of emails sent to POI’s and received from POI’s for most of the employees. However, if an employee sends or receives a lot of emails in general, it is likely that the quantity of them sent or received from POI’s would be large as well. This is why we are creating these two new features: - fraction of ‘to_messages’ received from a POI; - fraction of ‘from_messages’ sent to a POI.\n",
    "\n",
    "When I engineered a feature that identified when a given person was on the same email as a POI. So for example, if Ken Lay and Katie Malone are both recipients of the same email message, then Katie Malone should have her \"shared receipt\" feature incremented. If she shares lots of emails with POIs, maybe she's a POI herself. Ken Lay always shares receipt with a POI, because he is a POI. So the \"shared receipt\" feature became extremely powerful in finding POIs, because it effectively was encoding the label for each person as a feature. But it may introduce a bug too. \n",
    "\n",
    "2. Univeriate algorithm \"SelectKBest\" - Univariate feature selection works by selecting the best features based on univariate statistical tests. It can be seen as a preprocessing step to an estimator. Feature selection methods can be used to identify and remove unneeded, irrelevant and redundant attributes from data that do not contribute to the accuracy of a predictive model or may in fact decrease the accuracy of the model. \"SelectKBest\" removes all but the k highest scoring features.\n",
    "\n",
    "3. MinMax Scaler - It Transforms features by scaling each feature to a given range. This estimator scales and translates each feature individually such that it is in the given range on the training set, i.e. between zero and one. What if x_max and x_min are the same? For example, suppose the list of input features is [10, 10, 10]--the denominator will be zero. This exact formula can be broken. If you look at finance_features, there are some \"NaN\" values that have been cleaned away and replaced with zeroes. While those might look like the minima, it's a bit deceptive because they're more like points for which we don't have information, and just have to put in a number. \n",
    "\n",
    "Here, I appled MinMaxScaler to obtain the new scaled features. Mainly SVM, K-nearest neighbors, PCA and logistic regression require features to be normalized. Standardization involves rescaling the features such that they have the properties of a standard normal distribution with a mean of zero and a standard deviation of one. Beside the DecisionTree Classifier and Naive Bayes classifiers do not give any changes using the MinMax feature scaling. \n",
    "\n",
    "If I wanted 'from_messages' and 'salary' as feature for clustering, then feature scaling would be critical on using SVM and K-nearest neighbors algorithms. They really depend on feature scaling. \n",
    "\n",
    "MinMaxScaler feature scaling is used on SVM and Logistic Regression to compare the prediction accuracies with Decession Tree and Naive Bayes.  \n"
   ]
  },
  {
   "cell_type": "code",
   "execution_count": 26,
   "metadata": {
    "collapsed": true
   },
   "outputs": [],
   "source": [
    "### 2. Dataset with new features - New features created from email_features\n",
    "feature_1 = \"fraction_from_poi\"\n",
    "feature_2 = \"fraction_to_poi\"\n",
    "\n",
    "N_KBest_features = KBest_features + [feature_1, feature_2]\n",
    " \n",
    "data = featureFormat(my_dataset, N_KBest_features, sort_keys = True)\n",
    "N_labels, N_features = targetFeatureSplit(data)\n",
    "N_features = scaler.fit_transform(N_features)\n",
    "\n",
    "#print N_features"
   ]
  },
  {
   "cell_type": "markdown",
   "metadata": {},
   "source": [
    "### 4.  Choosing an Algorithm"
   ]
  },
  {
   "cell_type": "markdown",
   "metadata": {},
   "source": [
    "I am going to try varity of following Classifiers. \n",
    "\n",
    "1. Naive Bayes GaussianNB\n",
    "2. DecisionTreeClassifier\n",
    "3. Support Vecctor Machines\n",
    "4. Linear Model Logistic Regression\n",
    "\n",
    "In statistics and machine learning we usually split our data into to subsets: training data and testing data and fit our model  on the train data. In order to make predictions on the test data. When we do that, one of two thing might happen: we overfit our model or we underfit our model. We don’t want any of these things to happen, because they affect the predictability of our model. In order to avoid this, we can perform something called cross validation. It’s very similar to train/test split, but it’s applied to more subsets. Meaning, we split our data into k subsets, and train on k-1 one of those subset. \n",
    "\n",
    "In scikit-learn a random split into training and test sets can be quickly computed with the \"train_test_split\" helper function. \n",
    "We can now quickly sample a training set while holding out 30% of the data for testing (evaluating) our classifier."
   ]
  },
  {
   "cell_type": "code",
   "execution_count": 27,
   "metadata": {
    "collapsed": true
   },
   "outputs": [],
   "source": [
    "### Task 4: Try a varity of classifiers\n",
    "### Please name your classifier clf for easy export below.\n",
    "\n",
    "from sklearn.cross_validation import train_test_split\n",
    "from sklearn import cross_validation\n",
    "features_train, features_test, labels_train, labels_test = \\\n",
    "     cross_validation.train_test_split(features, labels, test_size=0.3, random_state=42)\n",
    "       "
   ]
  },
  {
   "cell_type": "code",
   "execution_count": 28,
   "metadata": {},
   "outputs": [
    {
     "name": "stdout",
     "output_type": "stream",
     "text": [
      "Naive Bayes Accuracy:  0.883720930233\n"
     ]
    }
   ],
   "source": [
    "# 4.1 Naive Bayes\n",
    "\n",
    "from sklearn.naive_bayes import GaussianNB\n",
    "\n",
    "### create classifier\n",
    "clf = GaussianNB()\n",
    "\n",
    "### fit the classifier on the training features and labels\n",
    "clf.fit(features_train, labels_train)\n",
    "\n",
    "### use the trained classifier to predict labels for the test features\n",
    "pred = clf.predict(features_test)\n",
    "\n",
    "### Estimate the accuracy\n",
    "accuracy = clf.score(features_test, labels_test)\n",
    "print \"Naive Bayes Accuracy: \", accuracy"
   ]
  },
  {
   "cell_type": "code",
   "execution_count": 29,
   "metadata": {},
   "outputs": [
    {
     "name": "stdout",
     "output_type": "stream",
     "text": [
      "0.883720930233\n"
     ]
    }
   ],
   "source": [
    "# 4.1.1 Naive Bayes with New Features \n",
    "\n",
    "from sklearn.cross_validation import train_test_split\n",
    "from sklearn import cross_validation\n",
    "features_train, features_test, labels_train, labels_test = \\\n",
    "     cross_validation.train_test_split(N_features, N_labels, test_size=0.3, random_state=42)\n",
    "    \n",
    "from sklearn.naive_bayes import GaussianNB\n",
    "\n",
    "### create classifier\n",
    "clfN = GaussianNB()\n",
    "\n",
    "### fit the classifier on the training features and labels\n",
    "clfN.fit(features_train, labels_train)\n",
    "\n",
    "### use the trained classifier to predict labels for the test features\n",
    "predN = clfN.predict(features_test)\n",
    "\n",
    "### Estimate the accuracy\n",
    "accN = clfN.score(features_test, labels_test)\n",
    "print accN"
   ]
  },
  {
   "cell_type": "code",
   "execution_count": 29,
   "metadata": {},
   "outputs": [
    {
     "name": "stdout",
     "output_type": "stream",
     "text": [
      "DecisionTree Classifier Accuracy:  0.837209302326\n"
     ]
    }
   ],
   "source": [
    "# 4.2 DecisionTreeClassifier\n",
    "#from sklearn import tree\n",
    "\n",
    "clf_DT = tree.DecisionTreeClassifier()\n",
    "\n",
    "clf_DT.fit(features_train, labels_train)\n",
    "\n",
    "pred = clf_DT.predict(features_test, labels_test)\n",
    "\n",
    "accDT = accuracy_score(pred, labels_test)\n",
    "\n",
    "print \"DecisionTree Classifier Accuracy: \", accDT\n"
   ]
  },
  {
   "cell_type": "code",
   "execution_count": 30,
   "metadata": {},
   "outputs": [
    {
     "name": "stdout",
     "output_type": "stream",
     "text": [
      "Support Vector Machines Accuracy:  0.883720930233\n"
     ]
    }
   ],
   "source": [
    "# 4.3 SVM - Support Vector Machines\n",
    "#from sklearn.svm import SVC\n",
    "\n",
    "clfSVM = SVC(kernel= \"rbf\" , C = 1.0)  \n",
    "\n",
    "clfSVM.fit(features_train, labels_train)\n",
    "\n",
    "pred = clfSVM.predict(features_test)\n",
    "\n",
    "accSVM = accuracy_score(pred, labels_test)\n",
    "\n",
    "print \"Support Vector Machines Accuracy: \", accSVM\n"
   ]
  },
  {
   "cell_type": "code",
   "execution_count": 31,
   "metadata": {},
   "outputs": [
    {
     "name": "stdout",
     "output_type": "stream",
     "text": [
      " Logistic Regression Accuracy:  0.837209302326\n"
     ]
    }
   ],
   "source": [
    "# 4.4 Linear Model Logistic Regression\n",
    "#from sklearn.linear_model import LogisticRegression\n",
    "\n",
    "clfReg = LogisticRegression(C=1e5)\n",
    "\n",
    "clfReg.fit(features_train, labels_train)\n",
    "\n",
    "pred = clfReg.predict(features_test)\n",
    "\n",
    "accReg = accuracy_score(labels_test, pred)\n",
    "\n",
    "print \" Logistic Regression Accuracy: \", accReg\n"
   ]
  },
  {
   "cell_type": "markdown",
   "metadata": {},
   "source": [
    "#### 5. Validation and Parameter Tuning"
   ]
  },
  {
   "cell_type": "markdown",
   "metadata": {},
   "source": [
    "Cross Validation With Parameter Tuning Using Grid Search: Given a grid_search and parameters list for a specific model, along with features and labels list. It tunes the algorithm using grid search and prints out the average evaluation metrics results such as accuracy, percision, recall after performing the tuning for iter times, and the best hyperparameters for the model.\n",
    "The parameters of the estimator used to apply these methods are optimized by cross-validated grid-search over a parameter grid.\n"
   ]
  },
  {
   "cell_type": "code",
   "execution_count": 30,
   "metadata": {
    "collapsed": true
   },
   "outputs": [],
   "source": [
    "from sklearn.cross_validation import train_test_split\n",
    "\n",
    "from sklearn.metrics import accuracy_score, precision_score, recall_score\n",
    "\n",
    "def tune_params(grid_search, features, labels, params, iters = 80):\n",
    "    acc = []\n",
    "    pre = []\n",
    "    recall = []\n",
    "    for i in range(iters):\n",
    "        features_train, features_test, labels_train, labels_test = \\\n",
    "        train_test_split(features, labels, test_size = 0.3, random_state = i)\n",
    "        grid_search.fit(features_train, labels_train)\n",
    "        predicts = grid_search.predict(features_test)\n",
    "\n",
    "        acc = acc + [accuracy_score(labels_test, predicts)] \n",
    "        pre = pre + [precision_score(labels_test, predicts)]\n",
    "        recall = recall + [recall_score(labels_test, predicts)]\n",
    "    print \"accuracy  : {}\".format(np.mean(acc))\n",
    "    print \"precision : {}\".format(np.mean(pre))\n",
    "    print \"recall    : {}\".format(np.mean(recall))\n",
    "\n",
    "    best_params = grid_search.best_estimator_.get_params()\n",
    "    for param_name in params.keys():\n",
    "        print(\"%s = %r, \" % (param_name, best_params[param_name]))\n"
   ]
  },
  {
   "cell_type": "markdown",
   "metadata": {},
   "source": [
    "##### 5.1 Naive Bayes GaussianNB\n",
    "sklearn.naive_bayes.GaussianNB\n",
    "\n",
    "class sklearn.naive_bayes.GaussianNB(priors=None)"
   ]
  },
  {
   "cell_type": "code",
   "execution_count": 31,
   "metadata": {},
   "outputs": [
    {
     "name": "stdout",
     "output_type": "stream",
     "text": [
      "Naive Bayes Model Evaluation: \n"
     ]
    }
   ],
   "source": [
    "from sklearn.naive_bayes import GaussianNB\n",
    "NB_clf = GaussianNB()\n",
    "NB_param = {}\n",
    "NB_grid_search = GridSearchCV(estimator = NB_clf, param_grid = NB_param)\n",
    "print(\"Naive Bayes Model Evaluation: \")\n",
    "\n",
    "#tune_params(NB_grid_search, features, labels, NB_param)\n",
    "#tune_params(NB_grid_search, N_features, N_labels, NB_param)"
   ]
  },
  {
   "cell_type": "markdown",
   "metadata": {},
   "source": [
    "##### 5.2 sklearn.tree.DecisionTreeClassifier\n",
    "\n",
    "class sklearn.tree.DecisionTreeClassifier(criterion=’gini’, splitter=’best’, max_depth=None, min_samples_split=2, min_samples_leaf=1, min_weight_fraction_leaf=0.0, max_features=None, random_state=None, max_leaf_nodes=None, min_impurity_decrease=0.0, min_impurity_split=None, class_weight=None, presort=False)\n",
    "\n",
    "criterion - The function to measure the quality of a split. Supported criteria are “gini” for the Gini impurity and “entropy” for the information gain."
   ]
  },
  {
   "cell_type": "code",
   "execution_count": 32,
   "metadata": {},
   "outputs": [
    {
     "name": "stdout",
     "output_type": "stream",
     "text": [
      "Decision Tree Model Evaluation: \n"
     ]
    }
   ],
   "source": [
    "from sklearn import tree\n",
    "DT_clf = tree.DecisionTreeClassifier()\n",
    "DT_param = {'criterion':(\"gini\", \"entropy\"),'splitter':(\"best\",\"random\")}\n",
    "DT_grid_search = GridSearchCV(estimator = DT_clf, param_grid = DT_param)\n",
    "print(\"Decision Tree Model Evaluation: \")\n",
    "\n",
    "#tune_params(DT_grid_search, features, labels, DT_param)\n",
    "#tune_params(DT_grid_search, N_features, N_labels, DT_param)"
   ]
  },
  {
   "cell_type": "markdown",
   "metadata": {},
   "source": [
    "##### 5.3 Support Vector Machines SVC\n",
    "\n",
    "sklearn.svm.SVC\n",
    "\n",
    "Specifies the kernel type to be used in the algorithm. It must be one of ‘linear’, ‘poly’, ‘rbf’, ‘sigmoid’, ‘precomputed’ or a callable. If none is given, ‘rbf’ will be used.\n",
    "\n",
    "class sklearn.svm.SVC(C=1.0, kernel=’rbf’, degree=3, gamma=’auto’, coef0=0.0, shrinking=True, probability=False, tol=0.001, cache_size=200, class_weight=None, verbose=False, max_iter=-1, decision_function_shape=’ovr’, random_state=None)"
   ]
  },
  {
   "cell_type": "code",
   "execution_count": 33,
   "metadata": {},
   "outputs": [
    {
     "name": "stdout",
     "output_type": "stream",
     "text": [
      "SVM Model Evaluation: \n"
     ]
    }
   ],
   "source": [
    "from sklearn import svm\n",
    "SVM_clf = svm.SVC()\n",
    "SVM_param = {'kernel':('linear', 'rbf', 'sigmoid'), 'gamma': [1, 0.1, 0.01, 0.001, 0.0001], 'C': [0.1, 1, 10, 100, 1000]}\n",
    "SVM_grid_search = GridSearchCV(estimator = SVM_clf, param_grid = SVM_param)\n",
    "print(\"SVM Model Evaluation: \")\n",
    "\n",
    "#tune_params(SVM_grid_search, features, labels, SVM_param)\n",
    "#tune_params(SVM_grid_search, N_features, N_labels, SVM_param)\n"
   ]
  },
  {
   "cell_type": "markdown",
   "metadata": {},
   "source": [
    "##### 5.4 Linear Model Logistic Regression\n",
    "\n",
    "sklearn.linear_model.LogisticRegression\n",
    "\n",
    "class sklearn.linear_model.LogisticRegression(penalty=’l2’, dual=False, tol=0.0001, C=1.0, fit_intercept=True, intercept_scaling=1, class_weight=None, random_state=None, solver=’liblinear’, max_iter=100, multi_class=’ovr’, verbose=0, warm_start=False, n_jobs=1)\n",
    "\n",
    "C: Inverse of regularization strength; must be a positive float. Like in support vector machines, smaller values specify stronger regularization.\n",
    "\n",
    "tol : float, default: 1e-4 Tolerance for stopping criteria."
   ]
  },
  {
   "cell_type": "code",
   "execution_count": 34,
   "metadata": {},
   "outputs": [
    {
     "name": "stdout",
     "output_type": "stream",
     "text": [
      "Logistic Regression model evaluation: \n"
     ]
    }
   ],
   "source": [
    "from sklearn.linear_model import LogisticRegression\n",
    "LoR_clf = LogisticRegression()\n",
    "LoR_param = {'tol': [1, 0.1, 0.01, 0.001, 0.0001],\n",
    "'C': [0.1, 0.01, 0.001, 0.0001]}\n",
    "LoR_grid_search = GridSearchCV(estimator = LoR_clf, param_grid = LoR_param)\n",
    "print(\"Logistic Regression model evaluation: \")\n",
    "\n",
    "#tune_params(LoR_grid_search, features, labels, LoR_param)\n",
    "#tune_params(LoR_grid_search, N_features, N_labels, LoR_param)"
   ]
  },
  {
   "cell_type": "markdown",
   "metadata": {},
   "source": [
    "### 6. Validate and Evaluate "
   ]
  },
  {
   "cell_type": "markdown",
   "metadata": {},
   "source": [
    "I tried 4 algorithms and selected Naive Bayes GaussianNB. Naive Bayes GaussianNB classifier predicted the accuracy 84%. Compare to others I preferred GaussianNB.\n",
    "\n",
    " Accuracy = No of items in a class labeled correctly / All items in that class = 0.84\n",
    "\n",
    "Here we used GridSearchCV, It is a way of systematically working through multiple combinations of parameter tunes, cross- validating as it goes to determine which tune gives the best performance. After performing the tuning for iter times, the average evaluation metrics results such as accuracy, percision, recall predicted the best hyperparameters for the model.\n",
    "\n",
    "1.What validation is in the context of machine learning projects, why validation is important. A classic mistake in a validation process.\n",
    "\n",
    "In machine learning, model validation is referred to as the process where a trained model is evaluated with a testing data set. The testing data set is a separate portion of the same data set from which the training set is derived. The main purpose of using the testing data set is to test the generalization ability of a trained model. Model validation aims to find an optimal model with the best performance.\n",
    "\n",
    "Valation is an very important step in machine learning project, because it can test the generalisation power (ie. predict power) of the model on the unseen dataset (ie. the test dataset or the validate dataset). So a classic mistake would be using the information of the validate dataset in the training process, this may lead to overfitting on the dataset.\n",
    "\n",
    "2.Metrics used to evaluate algorithm performance.\n",
    "\n",
    " Recall: True Positive / (True Positive + False Negative)  - Out of all the items that are truly positive, how many were correctly classified as positive.\n",
    "        \n",
    " Precision: True Positive / (True Positive + False Positive) - Out of all the items labeled as positive, how many truly belong to the positive class.    \n",
    "\n",
    "In the context to this project: The Precision Score is when the algorithm predicts that somebody is a POI. Which measures how certain we are that the person really is a POI. The Recall Score measures the ratio of the POIs that the algorithm correctly picked out from all the POIs.\n",
    "\n",
    "True Positive is a POI who is identified correctly as a POI and a False Negative is a POI who was not idenitifed correctly. In this classification, I was able to produce a Precision: 0.36639\tand Recall: 0.31400. That means, 31%  of the POIs that the algorithm correctly picked out from all the POIs.\n",
    "\n",
    "Precision: 0.36639\n",
    "Recall: 0.31400\n",
    "\n",
    "Generally, we want to build a model whihch has higher ratios for both “Precision Score” and “Recall Score”, but unfortunately in most cases we have to trade off between these two metrics. So in order to evaluate the model using just one metric, we can use the harmonic mean of the “Precision Score” and “Recall Score” which is called “F1 Score”.\n",
    "\n",
    "The measures that are a combination of Precision and Recall are the F-measure\n",
    "\n",
    "F = 2 * ((Precision * Recall)/(Precision + Recall))\n",
    "\n",
    "This measure usually referred to as F1 score, it is the average of Precision and Recall when they are close. This is the harmonic mean.\n",
    "F1: 0.33818\n",
    "\n",
    "3.Performance of the final algorithm selected is assessed by splitting the data into training and testing sets or through the use of cross validation.\n",
    "\n",
    "Below, I used StratifiedShuffleSplit Cross validation method. A technique for testing how well a model generalizes in the absence of a holdout test sample. Cross-validation divides the training data into a number of subsets, and then builds the same number of models, with each subset held out in turn. Each of those models is tested on the holdout sample, and the average accuracy of the models on those holdout samples is used to estimate the accuracy of the model when applied to new data. \n",
    "\n",
    "Here, training and testing data are created using StratifiedShuffleSplit, which shuffled the data and split into K different set, called folds. In this dataset, I split the data into 1000 folds.\n"
   ]
  },
  {
   "cell_type": "code",
   "execution_count": 35,
   "metadata": {},
   "outputs": [
    {
     "name": "stdout",
     "output_type": "stream",
     "text": [
      "GaussianNB()\n",
      "\tAccuracy: 0.83613\tPrecision: 0.36639\tRecall: 0.31400\tF1: 0.33818\tF2: 0.32324\n",
      "\tTotal predictions: 15000\tTrue positives:  628\tFalse positives: 1086\tFalse negatives: 1372\tTrue negatives: 11914\n",
      "\n"
     ]
    }
   ],
   "source": [
    "### Task 5: Tune your classifier to achieve better than .3 precision and recall \n",
    "### using our testing script. Check the tester.py script in the final project\n",
    "### folder for details on the evaluation method, especially the test_classifier\n",
    "### function. Because of the small size of the dataset, the script uses\n",
    "### stratified shuffle split cross validation. For more info: \n",
    "### http://scikit-learn.org/stable/modules/generated/sklearn.cross_validation.StratifiedShuffleSplit.html\n",
    "\n",
    "from sklearn.cross_validation import StratifiedShuffleSplit\n",
    "#from feature_format import featureFormat, targetFeatureSplit\n",
    "\n",
    "PERF_FORMAT_STRING = \"\\\n",
    "\\tAccuracy: {:>0.{display_precision}f}\\tPrecision: {:>0.{display_precision}f}\\t\\\n",
    "Recall: {:>0.{display_precision}f}\\tF1: {:>0.{display_precision}f}\\tF2: {:>0.{display_precision}f}\"\n",
    "RESULTS_FORMAT_STRING = \"\\tTotal predictions: {:4d}\\tTrue positives: {:4d}\\tFalse positives: {:4d}\\\n",
    "\\tFalse negatives: {:4d}\\tTrue negatives: {:4d}\"\n",
    "\n",
    "# Example starting point. Try investigating other evaluation techniques!\n",
    "\n",
    "from sklearn.cross_validation import train_test_split\n",
    "features_train, features_test, labels_train, labels_test = \\\n",
    "    train_test_split(features, labels, test_size=0.3, random_state=42)\n",
    "    \n",
    "def test_classifier(clf, dataset, feature_list, folds = 1000):\n",
    "    data = featureFormat(dataset, feature_list, sort_keys = True)\n",
    "    labels, features = targetFeatureSplit(data)\n",
    "    cv = StratifiedShuffleSplit(labels, folds, random_state = 42)\n",
    "    true_negatives = 0\n",
    "    false_negatives = 0\n",
    "    true_positives = 0\n",
    "    false_positives = 0\n",
    "    for train_idx, test_idx in cv: \n",
    "        features_train = []\n",
    "        features_test  = []\n",
    "        labels_train   = []\n",
    "        labels_test    = []\n",
    "        for ii in train_idx:\n",
    "            features_train.append( features[ii] )\n",
    "            labels_train.append( labels[ii] )\n",
    "        for jj in test_idx:\n",
    "            features_test.append( features[jj] )\n",
    "            labels_test.append( labels[jj] )\n",
    "        \n",
    "        ### fit the classifier using training set, and test on test set\n",
    "        clf.fit(features_train, labels_train)\n",
    "        predictions = clf.predict(features_test)\n",
    "        for prediction, truth in zip(predictions, labels_test):\n",
    "            if prediction == 0 and truth == 0:\n",
    "                true_negatives += 1\n",
    "            elif prediction == 0 and truth == 1:\n",
    "                false_negatives += 1\n",
    "            elif prediction == 1 and truth == 0:\n",
    "                false_positives += 1\n",
    "            elif prediction == 1 and truth == 1:\n",
    "                true_positives += 1\n",
    "            else:\n",
    "                print \"Warning: Found a predicted label not == 0 or 1.\"\n",
    "                print \"All predictions should take value 0 or 1.\"\n",
    "                print \"Evaluating performance for processed predictions:\"\n",
    "                break\n",
    "    try:\n",
    "        total_predictions = true_negatives + false_negatives + false_positives + true_positives\n",
    "        accuracy = 1.0*(true_positives + true_negatives)/total_predictions\n",
    "        precision = 1.0*true_positives/(true_positives+false_positives)\n",
    "        recall = 1.0*true_positives/(true_positives+false_negatives)\n",
    "        f1 = 2.0 * true_positives/(2*true_positives + false_positives+false_negatives)\n",
    "        f2 = (1+2.0*2.0) * precision*recall/(4*precision + recall)\n",
    "        print clf\n",
    "        print PERF_FORMAT_STRING.format(accuracy, precision, recall, f1, f2, display_precision = 5)\n",
    "        print RESULTS_FORMAT_STRING.format(total_predictions, true_positives, false_positives, false_negatives, true_negatives)\n",
    "        print \"\"\n",
    "    except:\n",
    "        print \"Got a divide by zero when trying out:\", clf\n",
    "        print \"Precision or recall may be undefined due to a lack of true positive predicitons.\"\n",
    "\n",
    "#### Selected algorithm GaussianNB\n",
    "clf = NB_clf\n",
    "\n",
    "features_list = KBest_features\n",
    "\n",
    "test_classifier(clf, my_dataset, features_list)"
   ]
  },
  {
   "cell_type": "code",
   "execution_count": 36,
   "metadata": {
    "collapsed": true
   },
   "outputs": [],
   "source": [
    "### Task 6: Dump your classifier, dataset, and features_list so anyone can\n",
    "### check your results. You do not need to change anything below, but make sure\n",
    "### that the version of poi_id.py that you submit can be run on its own and\n",
    "### generates the necessary .pkl files for validating your results.\n",
    "\n",
    "dump_classifier_and_data(clf, my_dataset, features_list)"
   ]
  },
  {
   "cell_type": "markdown",
   "metadata": {
    "collapsed": true
   },
   "source": [
    "References:\n",
    "\n",
    "http://scikit-learn.org/stable/\n",
    "\n",
    "http://scikit-learn.org/stable/tutorial/index.html\n",
    "\n",
    "https://machinelearningmastery.com/feature-selection-in-python-with-scikit-learn/\n",
    "\n",
    "https://towardsdatascience.com/machine-learning/home \n"
   ]
  }
 ],
 "metadata": {
  "kernelspec": {
   "display_name": "Python [conda env:DAND]",
   "language": "python",
   "name": "conda-env-DAND-py"
  },
  "language_info": {
   "codemirror_mode": {
    "name": "ipython",
    "version": 2
   },
   "file_extension": ".py",
   "mimetype": "text/x-python",
   "name": "python",
   "nbconvert_exporter": "python",
   "pygments_lexer": "ipython2",
   "version": "2.7.12"
  }
 },
 "nbformat": 4,
 "nbformat_minor": 2
}
